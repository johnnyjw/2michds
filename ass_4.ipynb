{
 "cells": [
  {
   "cell_type": "markdown",
   "metadata": {},
   "source": [
    "# 1 Region and Domain\n",
    "\n",
    "## State the region and the domain category that your data sets are about.\n",
    "\n",
    "Ann Arbor, Michigan, United States\n",
    "Religious events or traditions"
   ]
  },
  {
   "cell_type": "markdown",
   "metadata": {},
   "source": [
    "# 2 Research Question\n",
    "## You must state a question about the domain category and region that you identified as being interesting.\n",
    "The date of Easter varies year to year.  What is the variation in maximum and minimum temperature that has taken place in the years XXXX and XXXX?  Is there a noticible difference in temparature for Easters that have taken place earlier in the year compared with later in the year?"
   ]
  },
  {
   "cell_type": "markdown",
   "metadata": {},
   "source": [
    "# 3 Links\n",
    "## You must provide at least two links to publicly accessible datasets. These could be links to files such as CSV or Excel files, or links to websites which might have data in tabular form, such as Wikipedia pages.\n",
    "http://tlarsen2.tripod.com/thomaslarsen/easterdates.xls  \n",
    "https://www.ncdc.noaa.gov  \n",
    "Data request at ncdc.noaa.gov was the following parameters:  \n",
    "REQUESTED DATA REVIEW  \n",
    "Dataset\tDaily Summaries  \n",
    "Order Start Date\t2000-01-01 00:00  \n",
    "Order End Date\t2015-08-01 23:59  \n",
    "Output Format\tCustom GHCN-Daily CSV  \n",
    "Data Types\tTAVG, TMAX, TMIN, TOBS  \n",
    "Custom Flag(s)\tStation Name  \n",
    "Units\tStandard  \n",
    "Stations/Locations\tAnn Arbor, MI US (Location ID: CITY:US260002)\n"
   ]
  },
  {
   "cell_type": "markdown",
   "metadata": {},
   "source": [
    "# 4 Image\n",
    "## You must upload an image which addresses the research question you stated. In addition to addressing the question, this visual should follow Cairo’s principles of truthfulness, functionality, beauty, and insightfulness."
   ]
  },
  {
   "cell_type": "markdown",
   "metadata": {},
   "source": [
    "# 5 Discussion\n",
    "## You must contribute a short (1-2 paragraph) written justification of how your visualization addresses your stated research question."
   ]
  },
  {
   "cell_type": "code",
   "execution_count": null,
   "metadata": {},
   "outputs": [],
   "source": []
  }
 ],
 "metadata": {
  "kernelspec": {
   "display_name": "Python 3",
   "language": "python",
   "name": "python3"
  },
  "language_info": {
   "codemirror_mode": {
    "name": "ipython",
    "version": 3
   },
   "file_extension": ".py",
   "mimetype": "text/x-python",
   "name": "python",
   "nbconvert_exporter": "python",
   "pygments_lexer": "ipython3",
   "version": "3.6.5"
  }
 },
 "nbformat": 4,
 "nbformat_minor": 2
}
