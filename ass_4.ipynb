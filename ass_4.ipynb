{
 "cells": [
  {
   "cell_type": "markdown",
   "metadata": {},
   "source": [
    "# 1 Region and Domain\n",
    "\n",
    "## State the region and the domain category that your data sets are about.\n",
    "\n",
    "Ann Arbor, Michigan, United States\n",
    "Religious events or traditions"
   ]
  },
  {
   "cell_type": "markdown",
   "metadata": {},
   "source": [
    "# 2 Research Question\n",
    "## You must state a question about the domain category and region that you identified as being interesting.\n",
    "The date of Easter varies year to year.  What is the variation in maximum and minimum temperature that has taken place in the years XXXX and XXXX?  Is there a noticible difference in temparature for Easters that have taken place earlier in the year compared with later in the year?"
   ]
  },
  {
   "cell_type": "markdown",
   "metadata": {},
   "source": [
    "# 3 Links\n",
    "## You must provide at least two links to publicly accessible datasets. These could be links to files such as CSV or Excel files, or links to websites which might have data in tabular form, such as Wikipedia pages.\n",
    "http://tlarsen2.tripod.com/thomaslarsen/easterdates.html \n",
    "https://www.ncdc.noaa.gov  \n",
    "Data request at ncdc.noaa.gov was the following parameters:  \n",
    "REQUESTED DATA REVIEW  \n",
    "Dataset\tDaily Summaries  \n",
    "Order Start Date\t2000-01-01 00:00  \n",
    "Order End Date\t2015-08-01 23:59  \n",
    "Output Format\tCustom GHCN-Daily CSV  \n",
    "Data Types\tTAVG, TMAX, TMIN, TOBS  \n",
    "Custom Flag(s)\tStation Name  \n",
    "Units\tStandard  \n",
    "Stations/Locations\tAnn Arbor, MI US (Location ID: CITY:US260002)\n"
   ]
  },
  {
   "cell_type": "markdown",
   "metadata": {},
   "source": [
    "# 4 Image\n",
    "## You must upload an image which addresses the research question you stated. In addition to addressing the question, this visual should follow Cairo’s principles of truthfulness, functionality, beauty, and insightfulness."
   ]
  },
  {
   "cell_type": "code",
   "execution_count": 5,
   "metadata": {},
   "outputs": [],
   "source": [
    "import pandas as pd\n",
    "import numpy as np\n",
    "import matplotlib.pyplot as plt\n",
    "%matplotlib notebook\n",
    "\n",
    "# bring in data\n",
    "temps = pd.read_csv('1444729.csv')"
   ]
  },
  {
   "cell_type": "code",
   "execution_count": 52,
   "metadata": {},
   "outputs": [],
   "source": [
    "#df = pd.read_fwf('output_list.txt')\n",
    "df2 = pd.read_fwf('easter_dates_2000.txt', [(0, 15)], header=None)\n",
    "df2['date'] = df2[0].map(lambda x: pd.to_datetime(x))\n",
    "temps['date_dt'] = temps['DATE'].map(lambda x: pd.to_datetime(x))"
   ]
  },
  {
   "cell_type": "code",
   "execution_count": 30,
   "metadata": {},
   "outputs": [
    {
     "data": {
      "text/html": [
       "<div>\n",
       "<style scoped>\n",
       "    .dataframe tbody tr th:only-of-type {\n",
       "        vertical-align: middle;\n",
       "    }\n",
       "\n",
       "    .dataframe tbody tr th {\n",
       "        vertical-align: top;\n",
       "    }\n",
       "\n",
       "    .dataframe thead th {\n",
       "        text-align: right;\n",
       "    }\n",
       "</style>\n",
       "<table border=\"1\" class=\"dataframe\">\n",
       "  <thead>\n",
       "    <tr style=\"text-align: right;\">\n",
       "      <th></th>\n",
       "      <th>0</th>\n",
       "      <th>date</th>\n",
       "    </tr>\n",
       "  </thead>\n",
       "  <tbody>\n",
       "    <tr>\n",
       "      <th>0</th>\n",
       "      <td>23rd April 2000</td>\n",
       "      <td>2000-04-23</td>\n",
       "    </tr>\n",
       "    <tr>\n",
       "      <th>1</th>\n",
       "      <td>15th April 2001</td>\n",
       "      <td>2001-04-15</td>\n",
       "    </tr>\n",
       "    <tr>\n",
       "      <th>2</th>\n",
       "      <td>31st March 2002</td>\n",
       "      <td>2002-03-31</td>\n",
       "    </tr>\n",
       "    <tr>\n",
       "      <th>3</th>\n",
       "      <td>20th April 2003</td>\n",
       "      <td>2003-04-20</td>\n",
       "    </tr>\n",
       "    <tr>\n",
       "      <th>4</th>\n",
       "      <td>11th April 2004</td>\n",
       "      <td>2004-04-11</td>\n",
       "    </tr>\n",
       "  </tbody>\n",
       "</table>\n",
       "</div>"
      ],
      "text/plain": [
       "                 0       date\n",
       "0  23rd April 2000 2000-04-23\n",
       "1  15th April 2001 2001-04-15\n",
       "2  31st March 2002 2002-03-31\n",
       "3  20th April 2003 2003-04-20\n",
       "4  11th April 2004 2004-04-11"
      ]
     },
     "execution_count": 30,
     "metadata": {},
     "output_type": "execute_result"
    }
   ],
   "source": [
    "df2.head()"
   ]
  },
  {
   "cell_type": "markdown",
   "metadata": {},
   "source": [
    "# 5 Discussion\n",
    "## You must contribute a short (1-2 paragraph) written justification of how your visualization addresses your stated research question."
   ]
  },
  {
   "cell_type": "code",
   "execution_count": 36,
   "metadata": {},
   "outputs": [
    {
     "data": {
      "text/plain": [
       "[Timestamp('2000-04-23 00:00:00'),\n",
       " Timestamp('2001-04-15 00:00:00'),\n",
       " Timestamp('2002-03-31 00:00:00'),\n",
       " Timestamp('2003-04-20 00:00:00'),\n",
       " Timestamp('2004-04-11 00:00:00'),\n",
       " Timestamp('2005-03-27 00:00:00'),\n",
       " Timestamp('2006-04-16 00:00:00'),\n",
       " Timestamp('2007-04-08 00:00:00'),\n",
       " Timestamp('2008-03-23 00:00:00'),\n",
       " Timestamp('2009-04-12 00:00:00'),\n",
       " Timestamp('2010-04-04 00:00:00'),\n",
       " Timestamp('2011-04-24 00:00:00'),\n",
       " Timestamp('2012-04-08 00:00:00'),\n",
       " Timestamp('2013-03-31 00:00:00'),\n",
       " Timestamp('2014-04-20 00:00:00'),\n",
       " Timestamp('2015-04-05 00:00:00'),\n",
       " Timestamp('2016-03-27 00:00:00'),\n",
       " Timestamp('2017-04-16 00:00:00'),\n",
       " Timestamp('2018-04-01 00:00:00'),\n",
       " Timestamp('2019-04-21 00:00:00'),\n",
       " Timestamp('2020-04-12 00:00:00'),\n",
       " Timestamp('2021-04-04 00:00:00'),\n",
       " Timestamp('2022-04-17 00:00:00'),\n",
       " Timestamp('2023-04-09 00:00:00'),\n",
       " Timestamp('2024-03-31 00:00:00')]"
      ]
     },
     "execution_count": 36,
     "metadata": {},
     "output_type": "execute_result"
    }
   ],
   "source": [
    "easter_list"
   ]
  },
  {
   "cell_type": "code",
   "execution_count": 53,
   "metadata": {},
   "outputs": [],
   "source": [
    "temps2 = temps[temps['date_dt'].isin(df2['date'])]"
   ]
  },
  {
   "cell_type": "code",
   "execution_count": 51,
   "metadata": {},
   "outputs": [
    {
     "data": {
      "text/plain": [
       "str"
      ]
     },
     "execution_count": 51,
     "metadata": {},
     "output_type": "execute_result"
    }
   ],
   "source": [
    "type(temps['DATE'][0])"
   ]
  },
  {
   "cell_type": "code",
   "execution_count": 54,
   "metadata": {},
   "outputs": [
    {
     "data": {
      "text/plain": [
       "(129, 8)"
      ]
     },
     "execution_count": 54,
     "metadata": {},
     "output_type": "execute_result"
    }
   ],
   "source": [
    "temps2.shape"
   ]
  },
  {
   "cell_type": "code",
   "execution_count": 55,
   "metadata": {},
   "outputs": [
    {
     "data": {
      "text/html": [
       "<div>\n",
       "<style scoped>\n",
       "    .dataframe tbody tr th:only-of-type {\n",
       "        vertical-align: middle;\n",
       "    }\n",
       "\n",
       "    .dataframe tbody tr th {\n",
       "        vertical-align: top;\n",
       "    }\n",
       "\n",
       "    .dataframe thead th {\n",
       "        text-align: right;\n",
       "    }\n",
       "</style>\n",
       "<table border=\"1\" class=\"dataframe\">\n",
       "  <thead>\n",
       "    <tr style=\"text-align: right;\">\n",
       "      <th></th>\n",
       "      <th>STATION</th>\n",
       "      <th>NAME</th>\n",
       "      <th>DATE</th>\n",
       "      <th>TAVG</th>\n",
       "      <th>TMAX</th>\n",
       "      <th>TMIN</th>\n",
       "      <th>TOBS</th>\n",
       "      <th>date_dt</th>\n",
       "    </tr>\n",
       "  </thead>\n",
       "  <tbody>\n",
       "    <tr>\n",
       "      <th>113</th>\n",
       "      <td>USC00200230</td>\n",
       "      <td>ANN ARBOR U OF MICH, MI US</td>\n",
       "      <td>2000-04-23</td>\n",
       "      <td>NaN</td>\n",
       "      <td>65.0</td>\n",
       "      <td>37.0</td>\n",
       "      <td>62.0</td>\n",
       "      <td>2000-04-23</td>\n",
       "    </tr>\n",
       "    <tr>\n",
       "      <th>470</th>\n",
       "      <td>USC00200230</td>\n",
       "      <td>ANN ARBOR U OF MICH, MI US</td>\n",
       "      <td>2001-04-15</td>\n",
       "      <td>NaN</td>\n",
       "      <td>61.0</td>\n",
       "      <td>38.0</td>\n",
       "      <td>42.0</td>\n",
       "      <td>2001-04-15</td>\n",
       "    </tr>\n",
       "    <tr>\n",
       "      <th>820</th>\n",
       "      <td>USC00200230</td>\n",
       "      <td>ANN ARBOR U OF MICH, MI US</td>\n",
       "      <td>2002-03-31</td>\n",
       "      <td>NaN</td>\n",
       "      <td>54.0</td>\n",
       "      <td>33.0</td>\n",
       "      <td>49.0</td>\n",
       "      <td>2002-03-31</td>\n",
       "    </tr>\n",
       "    <tr>\n",
       "      <th>1205</th>\n",
       "      <td>USC00200230</td>\n",
       "      <td>ANN ARBOR U OF MICH, MI US</td>\n",
       "      <td>2003-04-20</td>\n",
       "      <td>NaN</td>\n",
       "      <td>73.0</td>\n",
       "      <td>56.0</td>\n",
       "      <td>60.0</td>\n",
       "      <td>2003-04-20</td>\n",
       "    </tr>\n",
       "    <tr>\n",
       "      <th>1562</th>\n",
       "      <td>USC00200230</td>\n",
       "      <td>ANN ARBOR U OF MICH, MI US</td>\n",
       "      <td>2004-04-11</td>\n",
       "      <td>NaN</td>\n",
       "      <td>49.0</td>\n",
       "      <td>34.0</td>\n",
       "      <td>45.0</td>\n",
       "      <td>2004-04-11</td>\n",
       "    </tr>\n",
       "    <tr>\n",
       "      <th>1912</th>\n",
       "      <td>USC00200230</td>\n",
       "      <td>ANN ARBOR U OF MICH, MI US</td>\n",
       "      <td>2005-03-27</td>\n",
       "      <td>NaN</td>\n",
       "      <td>48.0</td>\n",
       "      <td>30.0</td>\n",
       "      <td>45.0</td>\n",
       "      <td>2005-03-27</td>\n",
       "    </tr>\n",
       "    <tr>\n",
       "      <th>2297</th>\n",
       "      <td>USC00200230</td>\n",
       "      <td>ANN ARBOR U OF MICH, MI US</td>\n",
       "      <td>2006-04-16</td>\n",
       "      <td>NaN</td>\n",
       "      <td>68.0</td>\n",
       "      <td>41.0</td>\n",
       "      <td>56.0</td>\n",
       "      <td>2006-04-16</td>\n",
       "    </tr>\n",
       "    <tr>\n",
       "      <th>2654</th>\n",
       "      <td>USC00200230</td>\n",
       "      <td>ANN ARBOR U OF MICH, MI US</td>\n",
       "      <td>2007-04-08</td>\n",
       "      <td>NaN</td>\n",
       "      <td>34.0</td>\n",
       "      <td>23.0</td>\n",
       "      <td>33.0</td>\n",
       "      <td>2007-04-08</td>\n",
       "    </tr>\n",
       "    <tr>\n",
       "      <th>3004</th>\n",
       "      <td>USC00200230</td>\n",
       "      <td>ANN ARBOR U OF MICH, MI US</td>\n",
       "      <td>2008-03-23</td>\n",
       "      <td>NaN</td>\n",
       "      <td>41.0</td>\n",
       "      <td>20.0</td>\n",
       "      <td>37.0</td>\n",
       "      <td>2008-03-23</td>\n",
       "    </tr>\n",
       "    <tr>\n",
       "      <th>3389</th>\n",
       "      <td>USC00200230</td>\n",
       "      <td>ANN ARBOR U OF MICH, MI US</td>\n",
       "      <td>2009-04-12</td>\n",
       "      <td>NaN</td>\n",
       "      <td>53.0</td>\n",
       "      <td>27.0</td>\n",
       "      <td>50.0</td>\n",
       "      <td>2009-04-12</td>\n",
       "    </tr>\n",
       "  </tbody>\n",
       "</table>\n",
       "</div>"
      ],
      "text/plain": [
       "          STATION                        NAME        DATE  TAVG  TMAX  TMIN  \\\n",
       "113   USC00200230  ANN ARBOR U OF MICH, MI US  2000-04-23   NaN  65.0  37.0   \n",
       "470   USC00200230  ANN ARBOR U OF MICH, MI US  2001-04-15   NaN  61.0  38.0   \n",
       "820   USC00200230  ANN ARBOR U OF MICH, MI US  2002-03-31   NaN  54.0  33.0   \n",
       "1205  USC00200230  ANN ARBOR U OF MICH, MI US  2003-04-20   NaN  73.0  56.0   \n",
       "1562  USC00200230  ANN ARBOR U OF MICH, MI US  2004-04-11   NaN  49.0  34.0   \n",
       "1912  USC00200230  ANN ARBOR U OF MICH, MI US  2005-03-27   NaN  48.0  30.0   \n",
       "2297  USC00200230  ANN ARBOR U OF MICH, MI US  2006-04-16   NaN  68.0  41.0   \n",
       "2654  USC00200230  ANN ARBOR U OF MICH, MI US  2007-04-08   NaN  34.0  23.0   \n",
       "3004  USC00200230  ANN ARBOR U OF MICH, MI US  2008-03-23   NaN  41.0  20.0   \n",
       "3389  USC00200230  ANN ARBOR U OF MICH, MI US  2009-04-12   NaN  53.0  27.0   \n",
       "\n",
       "      TOBS    date_dt  \n",
       "113   62.0 2000-04-23  \n",
       "470   42.0 2001-04-15  \n",
       "820   49.0 2002-03-31  \n",
       "1205  60.0 2003-04-20  \n",
       "1562  45.0 2004-04-11  \n",
       "1912  45.0 2005-03-27  \n",
       "2297  56.0 2006-04-16  \n",
       "2654  33.0 2007-04-08  \n",
       "3004  37.0 2008-03-23  \n",
       "3389  50.0 2009-04-12  "
      ]
     },
     "execution_count": 55,
     "metadata": {},
     "output_type": "execute_result"
    }
   ],
   "source": [
    "temps2.head(10)"
   ]
  },
  {
   "cell_type": "code",
   "execution_count": null,
   "metadata": {},
   "outputs": [],
   "source": []
  }
 ],
 "metadata": {
  "kernelspec": {
   "display_name": "Python 3",
   "language": "python",
   "name": "python3"
  },
  "language_info": {
   "codemirror_mode": {
    "name": "ipython",
    "version": 3
   },
   "file_extension": ".py",
   "mimetype": "text/x-python",
   "name": "python",
   "nbconvert_exporter": "python",
   "pygments_lexer": "ipython3",
   "version": "3.6.5"
  }
 },
 "nbformat": 4,
 "nbformat_minor": 2
}
